{
 "cells": [
  {
   "cell_type": "code",
   "execution_count": 14,
   "metadata": {},
   "outputs": [
    {
     "name": "stdout",
     "output_type": "stream",
     "text": [
      "Jadi Volume Balok Adalah 180 cm^3\n",
      "Jadi Luas Permukaan Balok Adalah 202 cm^2\n"
     ]
    }
   ],
   "source": [
    "panjang=int(input(\"Panjang Balok = \"))\n",
    "tinggi=int(input(\"Tinggi Balok = \"))\n",
    "lebar=int(input(\"Lebar Balok= \"))\n",
    "\n",
    "volume_balok=panjang*tinggi*lebar\n",
    "luas1=panjang*tinggi\n",
    "luas2=lebar*tinggi\n",
    "luas3=panjang*lebar\n",
    "luas_permukaan=2*(luas1 + luas2 + luas3)\n",
    "print(f'Jadi Volume Balok Adalah {volume_balok} cm^3' )\n",
    "print(f'Jadi Luas Permukaan Balok Adalah {luas_permukaan} cm^2')"
   ]
  },
  {
   "cell_type": "code",
   "execution_count": 16,
   "metadata": {},
   "outputs": [
    {
     "name": "stdout",
     "output_type": "stream",
     "text": [
      "[16, 5, 7]\n",
      "Jarak rumah yang paling jauh adalah : 16\n",
      "Jarak rumah yang paling dekat adalah : 5\n",
      "Nilai mean adalah : 9.333333333333334\n"
     ]
    }
   ],
   "source": [
    "jarak_rumah = []\n",
    "nilai = input('Masukkan jarak rumahmu dan 2 temanmu ke kampus: ')\n",
    "jarak_rumah = nilai.split(',')\n",
    "\n",
    "angka_list = [int(nilai) for nilai in jarak_rumah]\n",
    "print(angka_list)\n",
    "\n",
    "#mencari nilai maksimal dan minimal\n",
    "print(f'Jarak rumah yang paling jauh adalah : {max(angka_list)}' )\n",
    "print(f'Jarak rumah yang paling dekat adalah : {min(angka_list)}' )\n",
    "\n",
    "#mencari nilai mean/rata-rata\n",
    "mean = sum(angka_list)/len(angka_list)\n",
    "print(f'Nilai mean adalah : {mean}')"
   ]
  },
  {
   "cell_type": "code",
   "execution_count": 18,
   "metadata": {},
   "outputs": [
    {
     "name": "stdout",
     "output_type": "stream",
     "text": [
      "['program.c', 'studio.h', 'sample.h', 'a.out', 'math.h', 'hpp.out']\n"
     ]
    }
   ],
   "source": [
    "filename = ['program.c', 'studio.hpp', 'sample.hpp', 'a.out', 'math.hpp', 'hpp.out']\n",
    "newfilename = [filename.replace('.hpp', '.h') if filename.endswith('.hpp') else filename for filename in filename]\n",
    "\n",
    "print(newfilename)"
   ]
  },
  {
   "cell_type": "code",
   "execution_count": 19,
   "metadata": {},
   "outputs": [
    {
     "name": "stdout",
     "output_type": "stream",
     "text": [
      "['p.program', 'studio.hpp', 'sample.hpp', 'p.out', 'math.hpp', 'hpp.out']\n"
     ]
    }
   ],
   "source": [
    "filename = ['c.program', 'studio.hpp', 'sample.hpp', 'c.out', 'math.hpp', 'hpp.out']\n",
    "newfilename = [filename.replace('c.', 'p.') if filename.startswith('c.') else filename for filename in filename]\n",
    "\n",
    "print(newfilename)"
   ]
  },
  {
   "cell_type": "code",
   "execution_count": 32,
   "metadata": {},
   "outputs": [
    {
     "name": "stdout",
     "output_type": "stream",
     "text": [
      "Hello \n",
      "World\n",
      "HlWl\n"
     ]
    }
   ],
   "source": [
    "string = 'Hello World'\n",
    "print(string[0:6])\n",
    "print(string[-5:])\n",
    "print(string[0::3])"
   ]
  },
  {
   "cell_type": "code",
   "execution_count": 6,
   "metadata": {},
   "outputs": [
    {
     "name": "stdout",
     "output_type": "stream",
     "text": [
      "True\n"
     ]
    }
   ],
   "source": [
    "#Boolean\n",
    "boolean = 10 == 5+5\n",
    "print(boolean)"
   ]
  },
  {
   "cell_type": "code",
   "execution_count": 8,
   "metadata": {},
   "outputs": [
    {
     "name": "stdout",
     "output_type": "stream",
     "text": [
      "0b1\n"
     ]
    }
   ],
   "source": [
    "#Binary\n",
    "biner = bin(1)\n",
    "print(biner)"
   ]
  }
 ],
 "metadata": {
  "kernelspec": {
   "display_name": "Python 3",
   "language": "python",
   "name": "python3"
  },
  "language_info": {
   "codemirror_mode": {
    "name": "ipython",
    "version": 3
   },
   "file_extension": ".py",
   "mimetype": "text/x-python",
   "name": "python",
   "nbconvert_exporter": "python",
   "pygments_lexer": "ipython3",
   "version": "3.11.2"
  },
  "orig_nbformat": 4
 },
 "nbformat": 4,
 "nbformat_minor": 2
}
